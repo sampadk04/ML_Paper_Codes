{
 "cells": [
  {
   "cell_type": "markdown",
   "metadata": {},
   "source": [
    "# De-Noising Autoencoder"
   ]
  },
  {
   "cell_type": "markdown",
   "metadata": {},
   "source": [
    "# 1. Imports"
   ]
  },
  {
   "cell_type": "code",
   "execution_count": 2,
   "metadata": {},
   "outputs": [],
   "source": [
    "# importing other dependencies\n",
    "import numpy as np\n",
    "import pandas as pd\n",
    "# importing PyTorch\n",
    "import torch\n",
    "# importing torch.nn Module\n",
    "import torch.nn as nn\n",
    "# to load the activation functions\n",
    "import torch.nn.functional as F\n",
    "# importing Dataset, DataLoader\n",
    "from torch.utils.data import Dataset, DataLoader, TensorDataset\n",
    "# create datasets using `ImageFolder`\n",
    "from torchvision.datasets import ImageFolder\n",
    "# import compose and other transformations\n",
    "from torchvision.transforms import Compose, RandomResizedCrop, RandomHorizontalFlip, ToTensor, Resize, CenterCrop\n",
    "# plotting\n",
    "import matplotlib.pyplot as plt\n",
    "\n",
    "\n",
    "# for file paths\n",
    "import os\n",
    "# for time\n",
    "import time\n",
    "# for copying\n",
    "import copy"
   ]
  },
  {
   "cell_type": "code",
   "execution_count": 3,
   "metadata": {},
   "outputs": [
    {
     "name": "stdout",
     "output_type": "stream",
     "text": [
      "True\n",
      "True\n"
     ]
    }
   ],
   "source": [
    "# checks whether MPS is available\n",
    "print(torch.backends.mps.is_available())\n",
    "\n",
    "# this ensures that the current current PyTorch installation was built with MPS activated.\n",
    "print(torch.backends.mps.is_built())\n",
    "\n",
    "# setting the device to \"mps\" instead of default \"cpu\"\n",
    "device = torch.device(\"mps\" if torch.backends.mps.is_available else \"cpu\")"
   ]
  },
  {
   "cell_type": "code",
   "execution_count": 4,
   "metadata": {},
   "outputs": [
    {
     "data": {
      "text/plain": [
       "device(type='mps')"
      ]
     },
     "execution_count": 4,
     "metadata": {},
     "output_type": "execute_result"
    }
   ],
   "source": [
    "# training on GPU\n",
    "device"
   ]
  },
  {
   "cell_type": "markdown",
   "metadata": {},
   "source": [
    "# 2 Preparing Data"
   ]
  },
  {
   "cell_type": "code",
   "execution_count": 5,
   "metadata": {},
   "outputs": [],
   "source": [
    "# model hyper-parameters\n",
    "input_size = 28*28\n",
    "hidden_size = 50\n",
    "# larger latent space size to deal with noise\n",
    "latent_space_size = 25\n",
    "\n",
    "# other hyper-parameters\n",
    "batch_size = 128\n",
    "num_epochs = 10\n",
    "learning_rate = 0.001"
   ]
  },
  {
   "cell_type": "code",
   "execution_count": 6,
   "metadata": {},
   "outputs": [
    {
     "name": "stdout",
     "output_type": "stream",
     "text": [
      "Test Shapes: torch.Size([128, 1, 28, 28]) torch.Size([128])\n",
      "Size of Train Dataset: 60000\n",
      "Size of Test Dataset: 10000\n",
      "Test Shapes: torch.Size([128, 784]) torch.Size([128])\n"
     ]
    }
   ],
   "source": [
    "from torchvision.transforms import Compose, ToTensor, Normalize\n",
    "from torchvision.datasets import MNIST\n",
    "from torch.utils.data import DataLoader\n",
    "\n",
    "# we want the pixel values in each individual channel to have a value between 0 and 1, with a mean of 0.5 and std dev of 0.25.\n",
    "mean = np.array([0.5])\n",
    "std = np.array([0.25])\n",
    "\n",
    "transform = Compose([\n",
    "    ToTensor(),\n",
    "    Normalize(mean, std)\n",
    "])\n",
    "\n",
    "# train\n",
    "# keep download=True, the first time\n",
    "'''\n",
    "train_dataset = MNIST(\n",
    "    root='./data/MNIST/',\n",
    "    train=True,\n",
    "    transform=transform,\n",
    "    download=True\n",
    ")\n",
    "'''\n",
    "train_dataset = MNIST(\n",
    "    root='./data/MNIST/',\n",
    "    train=True,\n",
    "    transform=transform\n",
    ")\n",
    "\n",
    "# test\n",
    "test_dataset = MNIST(\n",
    "    root='./data/MNIST/',\n",
    "    train=False,\n",
    "    transform=transform\n",
    "    # don't have to download again\n",
    ")\n",
    "\n",
    "# DataLoader\n",
    "image_dataloaders = {\n",
    "    'train' : DataLoader(\n",
    "        dataset=train_dataset,\n",
    "        batch_size=batch_size,\n",
    "        shuffle=True\n",
    "    ),\n",
    "    'test' : DataLoader(\n",
    "        dataset=train_dataset,\n",
    "        batch_size=batch_size,\n",
    "        shuffle=True\n",
    "    )\n",
    "}\n",
    "\n",
    "# extracting the test dataset\n",
    "X_test, y_test = next(iter(image_dataloaders['test']))\n",
    "print(\"Test Shapes:\", X_test.shape, y_test.shape)\n",
    "# reshaping the data\n",
    "X_test = X_test.reshape(-1, 28*28)\n",
    "# adding to GPU\n",
    "X_test, y_test = X_test.to(device), y_test.to(device)\n",
    "\n",
    "# printing info\n",
    "print(\"Size of Train Dataset:\", len(train_dataset))\n",
    "print(\"Size of Test Dataset:\", len(test_dataset))\n",
    "\n",
    "print(\"Test Shapes:\", X_test.shape, y_test.shape)\n"
   ]
  },
  {
   "cell_type": "code",
   "execution_count": 7,
   "metadata": {},
   "outputs": [
    {
     "data": {
      "image/png": "[encoded data removed]",
      "text/plain": [
       "<Figure size 2000x1000 with 6 Axes>"
      ]
     },
     "metadata": {},
     "output_type": "display_data"
    }
   ],
   "source": [
    "plt.figure(figsize=(20,10))\n",
    "for i in range(6):\n",
    "    plt.subplot(2, 3, i+1)\n",
    "    # copy the image back to cpu to reshape\n",
    "    img = X_test[i].cpu()\n",
    "    # we only have a single channel image\n",
    "    plt.imshow(img.reshape(28,28), cmap='gray')\n",
    "    plt.title(\"Label= \" + str(y_test[i].item()))\n",
    "    plt.grid(False)\n",
    "    plt.axis(False)\n",
    "plt.show()"
   ]
  },
  {
   "cell_type": "markdown",
   "metadata": {},
   "source": [
    "# 3. Model\n",
    "\n",
    "`De-Noising Autoencoders` use the same model and loss function as `Simple Autoencoders`, but the training process adds noise to the input. The noise is generated using a normal distribution."
   ]
  },
  {
   "cell_type": "code",
   "execution_count": 8,
   "metadata": {},
   "outputs": [],
   "source": [
    "class SimpleAutoencoder(nn.Module):\n",
    "    def __init__(self, input_size, hidden_size=50, code_size=10):\n",
    "        # code size: dim of latent space\n",
    "        super(SimpleAutoencoder, self).__init__()\n",
    "        \n",
    "        # extracting parameters\n",
    "        self.input_size = input_size\n",
    "        self.hidden_size = hidden_size\n",
    "        self.code_size = code_size\n",
    "\n",
    "        # encoder\n",
    "        self.encoder = nn.Sequential(\n",
    "            # layer-1\n",
    "            nn.Linear(input_size, hidden_size),\n",
    "            nn.ReLU(),\n",
    "            # layer-2\n",
    "            nn.Linear(hidden_size, code_size),\n",
    "            nn.Tanh()\n",
    "        )\n",
    "\n",
    "        # decoder\n",
    "        self.decoder = nn.Sequential(\n",
    "            # layer-1\n",
    "            nn.Linear(code_size, hidden_size),\n",
    "            nn.ReLU(),\n",
    "            # layer-2\n",
    "            nn.Linear(hidden_size, input_size),\n",
    "            nn.Tanh()\n",
    "        )\n",
    "    \n",
    "    def forward(self, X):\n",
    "        # encoding\n",
    "        z = self.encoder(X)\n",
    "        # decoding\n",
    "        X_hat = self.decoder(z)\n",
    "\n",
    "        return X_hat, z\n",
    "    \n",
    "    def generate(self, n_samples = 4):\n",
    "        # generate 'n_samples' no. of random vector of size = `code_size` (in the latent space) \n",
    "        # ~ note: the input pixels to the decoder should be between -1,1 because the activation function is tanh \n",
    "        # ~ note: the input pixels to to the decoder should be between 0,1, if the activation before is sigmoid\n",
    "        z = torch.randn((n_samples, self.code_size)).to(device)\n",
    "        z = 2*z - 1\n",
    "        # generate the images via decoder\n",
    "        with torch.no_grad():\n",
    "            gen_images = self.decoder(z)\n",
    "        return gen_images"
   ]
  },
  {
   "cell_type": "code",
   "execution_count": 9,
   "metadata": {},
   "outputs": [
    {
     "name": "stdout",
     "output_type": "stream",
     "text": [
      "784 50 25\n"
     ]
    }
   ],
   "source": [
    "# print the model parameters\n",
    "print(input_size, hidden_size, latent_space_size)"
   ]
  },
  {
   "cell_type": "code",
   "execution_count": 10,
   "metadata": {},
   "outputs": [],
   "source": [
    "# define the model\n",
    "model = SimpleAutoencoder(\n",
    "    input_size=input_size,\n",
    "    hidden_size=hidden_size,\n",
    "    code_size=latent_space_size\n",
    ").to(device=device)"
   ]
  },
  {
   "cell_type": "markdown",
   "metadata": {},
   "source": [
    "Initial generation by the Autoencoder via randomly sampled points from the latent space."
   ]
  },
  {
   "cell_type": "code",
   "execution_count": 11,
   "metadata": {},
   "outputs": [
    {
     "data": {
      "image/png": "[encoded data removed]",
      "text/plain": [
       "<Figure size 1500x1000 with 4 Axes>"
      ]
     },
     "metadata": {},
     "output_type": "display_data"
    }
   ],
   "source": [
    "# no. of images to generate\n",
    "n_samples = 4\n",
    "\n",
    "with torch.no_grad():\n",
    "    generated_images = model.generate(n_samples)\n",
    "\n",
    "plt.figure(figsize=(15,10))\n",
    "for i in range(4):\n",
    "    plt.subplot(2, 2, i+1)\n",
    "    # copy the image back to cpu to reshape\n",
    "    img = generated_images[i].cpu()\n",
    "    # we only have a single channel image\n",
    "    plt.imshow(img.reshape(28,28), cmap='gray')\n",
    "    plt.title(\"Generated Image #\" + str(i))\n",
    "    plt.grid(False)\n",
    "    plt.axis(False)\n",
    "plt.show()"
   ]
  },
  {
   "cell_type": "markdown",
   "metadata": {},
   "source": [
    "# 4. Training"
   ]
  },
  {
   "cell_type": "code",
   "execution_count": 12,
   "metadata": {},
   "outputs": [],
   "source": [
    "from sklearn.metrics import mean_squared_error\n",
    "\n",
    "def train_model(model, criterion, optimizer, scheduler=None, num_epochs=20):\n",
    "    # begin start time to record time-elapsed\n",
    "    # since = time.time()\n",
    "\n",
    "    # to return the model with best accuracy\n",
    "    # variable to store the best model parameters\n",
    "    best_model_params = copy.deepcopy(model.state_dict())\n",
    "    # variable to store the best loss\n",
    "    best_loss = np.Inf\n",
    "\n",
    "    # initialize a dropout of 0.5\n",
    "    do = nn.Dropout(p=0.5)\n",
    "    # we use this to create the noise vector to add to the image vector (50% of the entries in the noise vector will be 1 and the rest will be made up of random noise sampled from N(0,1))\n",
    "    # we multiply the noise matrix with the original image\n",
    "\n",
    "    # start training epochs\n",
    "    for epoch in range(num_epochs):\n",
    "\n",
    "        # each epoch has a training and validation phase\n",
    "        for phase in ['train', 'test']:\n",
    "            if phase=='train':\n",
    "                model.train() # set model to training mode\n",
    "            else:\n",
    "                model.eval() # set model to evaluate mode\n",
    "            \n",
    "            # iterate over data\n",
    "            for batch in image_dataloaders[phase]:\n",
    "                # extract features and labels\n",
    "                X,y = batch\n",
    "                # reshape data\n",
    "                X = X.reshape(-1, 28*28)\n",
    "                # adding to GPU\n",
    "                X,y = X.to(device), y.to(device)\n",
    "\n",
    "                # forward\n",
    "                # track grad iff phase == train\n",
    "                with torch.set_grad_enabled(phase=='train'):\n",
    "                    # compute prediction\n",
    "                    # create noise matrix\n",
    "                    X_noise = do(torch.ones(X.shape)).to(device)\n",
    "                    # create X_bad by elementwise multiplying X with X_noise\n",
    "                    X_bad = (X*X_noise).to(device)\n",
    "                    X_hat, _ = model(X_bad)\n",
    "\n",
    "                    # loss + backward + optimize iff phase = 'train'\n",
    "                    if phase=='train':\n",
    "                        # compute loss\n",
    "                        loss = criterion(X_hat, X)\n",
    "                        # compute grads\n",
    "                        loss.backward()\n",
    "                        # update weights\n",
    "                        optimizer.step()\n",
    "                        # zero-gradients after updating\n",
    "                        optimizer.zero_grad()\n",
    "                \n",
    "            # learning scheduler step iff phase == 'train'\n",
    "            if scheduler and phase=='train':\n",
    "                # update learning rate\n",
    "                scheduler.step()\n",
    "            \n",
    "            # check accuracy on validation set iff phase == 'test'\n",
    "            if phase=='test':\n",
    "                epoch_loss = mean_squared_error(X.cpu(), X_hat.cpu())\n",
    "\n",
    "        # update best_model and best accuracy after the epoch\n",
    "        if epoch_loss <= best_loss:\n",
    "            best_loss = epoch_loss\n",
    "            best_model_params = copy.deepcopy(model.state_dict())\n",
    "        \n",
    "        # print epoch info\n",
    "        print('-----------------------------------------')\n",
    "        print('Epoch: {}/{}'.format(epoch+1, num_epochs))\n",
    "        print('Best Test Loss: {:2f}'.format(best_loss))\n",
    "        # to keep track of time\n",
    "        '''\n",
    "        time_elapsed = time.time() - since\n",
    "        print('Training complete in {:.0f}m {:.0f}s'.format(time_elapsed // 60, time_elapsed % 60))\n",
    "        '''\n",
    "    \n",
    "\n",
    "    # post training, load the best_model parameters and output the model\n",
    "\n",
    "    # load best model weights\n",
    "    model.load_state_dict(best_model_params)\n",
    "    return model\n"
   ]
  },
  {
   "cell_type": "code",
   "execution_count": 13,
   "metadata": {},
   "outputs": [],
   "source": [
    "# define parameters for training\n",
    "\n",
    "# add model to GPU\n",
    "model = model.to(device)\n",
    "\n",
    "# define loss\n",
    "criterion = nn.MSELoss()\n",
    "\n",
    "# define optimizer\n",
    "optimizer = torch.optim.Adam(\n",
    "    params=model.parameters(),\n",
    "    lr = learning_rate\n",
    ")"
   ]
  },
  {
   "cell_type": "code",
   "execution_count": 14,
   "metadata": {},
   "outputs": [
    {
     "name": "stdout",
     "output_type": "stream",
     "text": [
      "-----------------------------------------\n",
      "Epoch: 1/10\n",
      "Best Test Loss: 1.410330\n",
      "-----------------------------------------\n",
      "Epoch: 2/10\n",
      "Best Test Loss: 1.305399\n",
      "-----------------------------------------\n",
      "Epoch: 3/10\n",
      "Best Test Loss: 1.262506\n",
      "-----------------------------------------\n",
      "Epoch: 4/10\n",
      "Best Test Loss: 1.244063\n",
      "-----------------------------------------\n",
      "Epoch: 5/10\n",
      "Best Test Loss: 1.232004\n",
      "-----------------------------------------\n",
      "Epoch: 6/10\n",
      "Best Test Loss: 1.212590\n",
      "-----------------------------------------\n",
      "Epoch: 7/10\n",
      "Best Test Loss: 1.212590\n",
      "-----------------------------------------\n",
      "Epoch: 8/10\n",
      "Best Test Loss: 1.205243\n",
      "-----------------------------------------\n",
      "Epoch: 9/10\n",
      "Best Test Loss: 1.205243\n",
      "-----------------------------------------\n",
      "Epoch: 10/10\n",
      "Best Test Loss: 1.183623\n"
     ]
    }
   ],
   "source": [
    "model = train_model(\n",
    "    model=model,\n",
    "    num_epochs=num_epochs,\n",
    "    criterion=criterion,\n",
    "    optimizer=optimizer\n",
    ")"
   ]
  },
  {
   "cell_type": "markdown",
   "metadata": {},
   "source": [
    "Saving and Loading the model."
   ]
  },
  {
   "cell_type": "code",
   "execution_count": 15,
   "metadata": {},
   "outputs": [
    {
     "data": {
      "text/plain": [
       "'models/DNAE.pth'"
      ]
     },
     "execution_count": 15,
     "metadata": {},
     "output_type": "execute_result"
    }
   ],
   "source": [
    "save_path = os.path.join('models','DNAE.pth')\n",
    "save_path"
   ]
  },
  {
   "cell_type": "code",
   "execution_count": 16,
   "metadata": {},
   "outputs": [],
   "source": [
    "# saving the model\n",
    "torch.save(model.state_dict(), save_path)"
   ]
  },
  {
   "cell_type": "code",
   "execution_count": 17,
   "metadata": {},
   "outputs": [
    {
     "data": {
      "text/plain": [
       "SimpleAutoencoder(\n",
       "  (encoder): Sequential(\n",
       "    (0): Linear(in_features=784, out_features=50, bias=True)\n",
       "    (1): ReLU()\n",
       "    (2): Linear(in_features=50, out_features=25, bias=True)\n",
       "    (3): Tanh()\n",
       "  )\n",
       "  (decoder): Sequential(\n",
       "    (0): Linear(in_features=25, out_features=50, bias=True)\n",
       "    (1): ReLU()\n",
       "    (2): Linear(in_features=50, out_features=784, bias=True)\n",
       "    (3): Tanh()\n",
       "  )\n",
       ")"
      ]
     },
     "execution_count": 17,
     "metadata": {},
     "output_type": "execute_result"
    }
   ],
   "source": [
    "# loading the model\n",
    "\n",
    "# define the model\n",
    "model = SimpleAutoencoder(\n",
    "    input_size=input_size,\n",
    "    hidden_size=hidden_size,\n",
    "    code_size=latent_space_size\n",
    ").to(device=device)\n",
    "\n",
    "model.load_state_dict(torch.load(save_path))\n",
    "model.eval()"
   ]
  },
  {
   "cell_type": "markdown",
   "metadata": {},
   "source": [
    "# 5. Evaluation"
   ]
  },
  {
   "cell_type": "code",
   "execution_count": 18,
   "metadata": {},
   "outputs": [
    {
     "data": {
      "image/png": "[encoded data removed]",
      "text/plain": [
       "<Figure size 600x300 with 2 Axes>"
      ]
     },
     "metadata": {},
     "output_type": "display_data"
    },
    {
     "data": {
      "image/png": "[encoded data removed]",
      "text/plain": [
       "<Figure size 600x300 with 2 Axes>"
      ]
     },
     "metadata": {},
     "output_type": "display_data"
    },
    {
     "data": {
      "image/png": "[encoded data removed]",
      "text/plain": [
       "<Figure size 600x300 with 2 Axes>"
      ]
     },
     "metadata": {},
     "output_type": "display_data"
    },
    {
     "data": {
      "image/png": "[encoded data removed]",
      "text/plain": [
       "<Figure size 600x300 with 2 Axes>"
      ]
     },
     "metadata": {},
     "output_type": "display_data"
    }
   ],
   "source": [
    "# no. of examples to print\n",
    "n_examples = 4\n",
    "test_idx = np.random.randint(X_test.shape[0] ,size=n_examples)\n",
    "\n",
    "# initialize a dropout of 0.5\n",
    "do = nn.Dropout(p=0.5)\n",
    "# we use this to create the noise vector to add to the image vector (50% of the entries in the noise vector will be 1 and the rest will be made up of random noise sampled from N(0,1))\n",
    "# we multiply the noise matrix with the original image\n",
    "\n",
    "for idx in test_idx:\n",
    "    X = X_test[idx]\n",
    "    \n",
    "    # create noise matrix\n",
    "    X_noise = do(torch.ones(X.shape)).to(device)\n",
    "    # create X_bad by elementwise multiplying X with X_noise\n",
    "    X_bad = (X*X_noise).to(device)\n",
    "\n",
    "    with torch.no_grad():\n",
    "        X_hat, _ = model(X_bad)\n",
    "    \n",
    "    # copying image, re-constructed image back to cpu\n",
    "    noisy_img, rec_img = X_bad.cpu(), X_hat.cpu()\n",
    "\n",
    "    plt.figure(figsize=(6,3))\n",
    "    \n",
    "    # actual image\n",
    "    plt.subplot(1, 2, 1)\n",
    "    # we only have a single channel image\n",
    "    plt.imshow(noisy_img.reshape(28,28), cmap='gray')\n",
    "    plt.title(\"Original, Label= \" + str(y_test[idx].item()))\n",
    "    plt.grid(False)\n",
    "    plt.axis(False)\n",
    "\n",
    "    # reconstructed image\n",
    "    plt.subplot(1, 2, 2)\n",
    "    # we only have a single channel image\n",
    "    plt.imshow(rec_img.reshape(28,28), cmap='gray')\n",
    "    plt.title(\"Reconstructed\")\n",
    "    plt.grid(False)\n",
    "    plt.axis(False)\n",
    "    \n",
    "\n",
    "plt.show()"
   ]
  },
  {
   "cell_type": "markdown",
   "metadata": {},
   "source": [
    "Final generation by the Autoencoder via randomly sampled points from the latent space."
   ]
  },
  {
   "cell_type": "code",
   "execution_count": 19,
   "metadata": {},
   "outputs": [
    {
     "data": {
      "image/png": "[encoded data removed]",
      "text/plain": [
       "<Figure size 1500x1000 with 4 Axes>"
      ]
     },
     "metadata": {},
     "output_type": "display_data"
    }
   ],
   "source": [
    "# no. of images to generate\n",
    "n_samples = 4\n",
    "\n",
    "with torch.no_grad():\n",
    "    generated_images = model.generate(n_samples)\n",
    "\n",
    "plt.figure(figsize=(15,10))\n",
    "for i in range(4):\n",
    "    plt.subplot(2, 2, i+1)\n",
    "    # copy the image back to cpu to reshape\n",
    "    img = generated_images[i].cpu()\n",
    "    # we only have a single channel image\n",
    "    plt.imshow(img.reshape(28,28), cmap='gray')\n",
    "    plt.title(\"Generated Image #\" + str(i))\n",
    "    plt.grid(False)\n",
    "    plt.axis(False)\n",
    "plt.show()"
   ]
  }
 ],
 "metadata": {
  "kernelspec": {
   "display_name": "Python 3.10.8 ('conda_pytorch_env')",
   "language": "python",
   "name": "python3"
  },
  "language_info": {
   "codemirror_mode": {
    "name": "ipython",
    "version": 3
   },
   "file_extension": ".py",
   "mimetype": "text/x-python",
   "name": "python",
   "nbconvert_exporter": "python",
   "pygments_lexer": "ipython3",
   "version": "3.10.8"
  },
  "orig_nbformat": 4,
  "vscode": {
   "interpreter": {
    "hash": "5e3ed40c8fb4c0778cc14e83fd08fd290bb35159f9df4bcbc4cc74f240b0dd9d"
   }
  }
 },
 "nbformat": 4,
 "nbformat_minor": 2
}
